{
 "cells": [
  {
   "cell_type": "code",
   "execution_count": 1,
   "metadata": {},
   "outputs": [],
   "source": [
    "import torch as T"
   ]
  },
  {
   "cell_type": "code",
   "execution_count": 2,
   "metadata": {},
   "outputs": [
    {
     "name": "stdout",
     "output_type": "stream",
     "text": [
      "CPU times: user 5.97 s, sys: 337 ms, total: 6.31 s\n",
      "Wall time: 6.3 s\n"
     ]
    }
   ],
   "source": [
    "%%time\n",
    "\n",
    "module = T.nn.ModuleList()\n",
    "module.append(T.nn.Linear(6, 100))\n",
    "module.append(T.nn.Linear(100, 2))\n",
    "opt = T.optim.Adam(module.parameters())\n",
    "for _ in range(10000):\n",
    "    opt.zero_grad()\n",
    "    x = T.rand(100, 6)\n",
    "    y = module[1](T.relu(module[0](x)))\n",
    "    (y ** 2).sum().backward()\n",
    "    opt.step()"
   ]
  },
  {
   "cell_type": "code",
   "execution_count": 25,
   "metadata": {},
   "outputs": [
    {
     "name": "stdout",
     "output_type": "stream",
     "text": [
      "Collecting mkl\n",
      "  Downloading https://files.pythonhosted.org/packages/9b/98/c892b77b755cb0c53491eabc88c49451a92e36fa5c5baf578e77b91ee31d/mkl-2019.0-py2.py3-none-manylinux1_x86_64.whl (261.0MB)\n",
      "\u001b[K    100% |████████████████████████████████| 261.0MB 5.0kB/s \n",
      "\u001b[?25hCollecting intel-openmp (from mkl)\n",
      "  Downloading https://files.pythonhosted.org/packages/ea/f0/b1bc380d90241ab37149ed526a2ae585f6780ba616bd670b57f0559be37b/intel_openmp-2019.0-py2.py3-none-manylinux1_x86_64.whl (729kB)\n",
      "\u001b[K    100% |████████████████████████████████| 737kB 1.1MB/s \n",
      "\u001b[?25hInstalling collected packages: intel-openmp, mkl\n",
      "Successfully installed intel-openmp-2019.0 mkl-2019.0\n"
     ]
    }
   ],
   "source": [
    "!pip3 install mkl"
   ]
  }
 ],
 "metadata": {
  "kernelspec": {
   "display_name": "Python 3",
   "language": "python",
   "name": "python3"
  },
  "language_info": {
   "codemirror_mode": {
    "name": "ipython",
    "version": 3
   },
   "file_extension": ".py",
   "mimetype": "text/x-python",
   "name": "python",
   "nbconvert_exporter": "python",
   "pygments_lexer": "ipython3",
   "version": "3.7.1"
  }
 },
 "nbformat": 4,
 "nbformat_minor": 2
}
