{
 "cells": [
  {
   "cell_type": "code",
   "execution_count": 1,
   "metadata": {},
   "outputs": [],
   "source": [
    "import time\n",
    "import io\n",
    "import numpy as np\n",
    "import Box2D as B\n",
    "from IPython.display import display, HTML"
   ]
  },
  {
   "cell_type": "code",
   "execution_count": 2,
   "metadata": {},
   "outputs": [],
   "source": [
    "class Render:\n",
    "    @classmethod\n",
    "    def fixture(cls, fixture, fill, out):\n",
    "        out.write('<path fill=\"{fill}\" d=\"'.format(fill=fill))\n",
    "        dx, dy = fixture.shape.vertices[0]\n",
    "        out.write('M {} {}'.format(dx, dy))\n",
    "        for (dx, dy) in fixture.shape.vertices[1:]:\n",
    "            out.write(' L {} {}'.format(dx, dy))\n",
    "        out.write('\"/>')\n",
    "\n",
    "    @classmethod\n",
    "    def body(cls, body, fill, out):\n",
    "        out.write('<g transform=\"translate({x},{y}) rotate({angle})\">'.format(\n",
    "            angle=body.angle * 180/np.pi, x=body.position.x, y=body.position.y,\n",
    "        ))\n",
    "        for fixture in body.fixtures:\n",
    "            cls.fixture(fixture, fill, out)\n",
    "        out.write('</g>')\n",
    "\n",
    "    @classmethod\n",
    "    def scene(cls, bodies_and_fills, viewbox, width, out):\n",
    "        (xmin, xmax), (ymin, ymax) = viewbox\n",
    "        height = (ymax-ymin)/(xmax-xmin) * width\n",
    "        out.write('<svg viewBox=\"{viewbox}\" width=\"{width}\" height=\"{height}\">'.format(\n",
    "            viewbox='{} {} {} {}'.format(xmin, ymin, xmax-xmin, ymax-ymin),\n",
    "            width=width, height=height))\n",
    "        out.write('<g transform=\"scale(1,-1) translate(0, {dy})\">'.format(dy=-(ymax+ymin)))\n",
    "        for body, fill in bodies_and_fills:\n",
    "            cls.body(body, fill, out)\n",
    "        out.write('</g></svg>')\n",
    "\n",
    "    @classmethod\n",
    "    def render(cls, bodies_and_fills, viewbox, width):\n",
    "        out = io.StringIO()\n",
    "        cls.scene(bodies_and_fills, viewbox, width, out)\n",
    "        return HTML(out.getvalue())"
   ]
  },
  {
   "cell_type": "code",
   "execution_count": 17,
   "metadata": {},
   "outputs": [
    {
     "data": {
      "text/plain": [
       "['RayCast',\n",
       " 'SetAsBox',\n",
       " 'TestPoint',\n",
       " 'Validate',\n",
       " '__class__',\n",
       " '__delattr__',\n",
       " '__dict__',\n",
       " '__dir__',\n",
       " '__doc__',\n",
       " '__eq__',\n",
       " '__format__',\n",
       " '__ge__',\n",
       " '__getattribute__',\n",
       " '__gt__',\n",
       " '__hash__',\n",
       " '__init__',\n",
       " '__init_subclass__',\n",
       " '__iter__',\n",
       " '__le__',\n",
       " '__lt__',\n",
       " '__module__',\n",
       " '__ne__',\n",
       " '__new__',\n",
       " '__reduce__',\n",
       " '__reduce_ex__',\n",
       " '__repr__',\n",
       " '__setattr__',\n",
       " '__sizeof__',\n",
       " '__str__',\n",
       " '__subclasshook__',\n",
       " '__swig_destroy__',\n",
       " '__weakref__',\n",
       " 'box',\n",
       " 'centroid',\n",
       " 'childCount',\n",
       " 'e_chain',\n",
       " 'e_circle',\n",
       " 'e_edge',\n",
       " 'e_polygon',\n",
       " 'e_typeCount',\n",
       " 'getAABB',\n",
       " 'getAsType',\n",
       " 'getMass',\n",
       " 'normals',\n",
       " 'radius',\n",
       " 'set_vertex',\n",
       " 'this',\n",
       " 'thisown',\n",
       " 'type',\n",
       " 'valid',\n",
       " 'vertexCount',\n",
       " 'vertices']"
      ]
     },
     "execution_count": 17,
     "metadata": {},
     "output_type": "execute_result"
    }
   ],
   "source": [
    "shape = rocket.fixtures[0].shape\n",
    "dir(shape)"
   ]
  },
  {
   "cell_type": "code",
   "execution_count": 6,
   "metadata": {},
   "outputs": [
    {
     "data": {
      "text/html": [
       "<svg viewBox=\"-10 -1 20 10\" width=\"400\" height=\"200.0\"><g transform=\"scale(1,-1) translate(0, -8)\"><g transform=\"translate(0.0,-10.0) rotate(0.0)\"><path fill=\"black\" d=\"M -50.0 -10.0 L 50.0 -10.0 L 50.0 10.0 L -50.0 10.0\"/></g><g transform=\"translate(-6.158143997192383,0.25018423795700073) rotate(271.90100625379995)\"><path fill=\"blue\" d=\"M -0.20000000298023224 -1.0 L 0.20000000298023224 -1.0 L 0.20000000298023224 1.0 L -0.20000000298023224 1.0\"/></g></g></svg>"
      ],
      "text/plain": [
       "<IPython.core.display.HTML object>"
      ]
     },
     "metadata": {},
     "output_type": "display_data"
    }
   ],
   "source": [
    "world = B.b2World(gravity=(0, -10))\n",
    "ground = world.CreateStaticBody(\n",
    "    position=[0, -10],\n",
    "    shapes=B.b2PolygonShape(box=(50, 10)),\n",
    ")\n",
    "rocket = world.CreateDynamicBody(position=[0, 4])\n",
    "rocket.CreatePolygonFixture(box=(.2, 1), density=1, friction=.3)\n",
    "\n",
    "def redraw():\n",
    "    return Render.render([(ground, 'black'), (rocket, 'blue')], ((-10, 10), (-1, 9)), 400)\n",
    "\n",
    "out = display(redraw(), display_id=True)\n",
    "for i in range(40):\n",
    "    time.sleep(1/20)\n",
    "    rocket.ApplyForce(rocket.GetWorldVector([0, rocket.mass * 10]), rocket.GetWorldPoint([0.1, -1]), True)\n",
    "    world.Step(1/20, 5, 5)\n",
    "    out.update(redraw())"
   ]
  },
  {
   "cell_type": "code",
   "execution_count": null,
   "metadata": {},
   "outputs": [],
   "source": []
  }
 ],
 "metadata": {
  "kernelspec": {
   "display_name": "Python 3",
   "language": "python",
   "name": "python3"
  },
  "language_info": {
   "codemirror_mode": {
    "name": "ipython",
    "version": 3
   },
   "file_extension": ".py",
   "mimetype": "text/x-python",
   "name": "python",
   "nbconvert_exporter": "python",
   "pygments_lexer": "ipython3",
   "version": "3.6.8"
  }
 },
 "nbformat": 4,
 "nbformat_minor": 2
}
