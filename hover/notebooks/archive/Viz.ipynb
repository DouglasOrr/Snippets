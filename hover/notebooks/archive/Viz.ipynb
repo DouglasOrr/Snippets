{
 "cells": [
  {
   "cell_type": "code",
   "execution_count": 1,
   "metadata": {},
   "outputs": [],
   "source": [
    "import Box2D as B\n",
    "from IPython.display import HTML, display"
   ]
  },
  {
   "cell_type": "code",
   "execution_count": 2,
   "metadata": {},
   "outputs": [
    {
     "data": {
      "text/plain": [
       "{'x': 6.944445340195671e-05, 'y': 3.9972221851348877}"
      ]
     },
     "execution_count": 2,
     "metadata": {},
     "output_type": "execute_result"
    }
   ],
   "source": [
    "world = B.b2World(gravity=(0, -10))\n",
    "world.CreateStaticBody(\n",
    "    position=[0, -10],\n",
    "    shapes=B.b2PolygonShape(box=(50, 10)),\n",
    ")\n",
    "ball = world.CreateDynamicBody(position=(0, 4))\n",
    "ball.CreatePolygonFixture(box=(1, 1), density=1, friction=.3)\n",
    "\n",
    "world.ClearForces()\n",
    "ball.ApplyForce([1, 0], ball.position, False)\n",
    "\n",
    "def tick():\n",
    "    world.Step(1/60, 6, 2)\n",
    "    return dict(x=ball.position.x, y=ball.position.y)\n",
    "# for i in range(60):\n",
    "#     world.Step(1/60, 6, 2)\n",
    "#     print(tuple(ball.position))\n",
    "tick()"
   ]
  },
  {
   "cell_type": "code",
   "execution_count": 11,
   "metadata": {},
   "outputs": [
    {
     "data": {
      "text/html": [
       "\n",
       "<canvas id=\"game\" width=\"200\" height=\"200\"></canvas>\n",
       "<script>\n",
       "var ctx = document.getElementById(\"game\").getContext(\"2d\");\n",
       "ctx.rect(10, 20, 120, 80);\n",
       "ctx.fill();\n",
       "\n",
       "if (typeof stop !== \"undefined\") {\n",
       "    stop();\n",
       "}\n",
       "var ticker = window.setInterval(function() {\n",
       "    console.log(\"tick5\");\n",
       "    IPython.notebook.kernel.execute(\"tick()\",\n",
       "        {iopub: {output: function(e) { console.log(e) }}}, {silent: false});\n",
       "}, 100);\n",
       "function stop() {\n",
       "    window.clearInterval(ticker);\n",
       "}\n",
       "</script>\n"
      ],
      "text/plain": [
       "<IPython.core.display.HTML object>"
      ]
     },
     "metadata": {},
     "output_type": "display_data"
    }
   ],
   "source": [
    "display(HTML(\"\"\"\n",
    "<canvas id=\"game\" width=\"200\" height=\"200\"></canvas>\n",
    "<script>\n",
    "var ctx = document.getElementById(\"game\").getContext(\"2d\");\n",
    "ctx.rect(10, 20, 120, 80);\n",
    "ctx.fill();\n",
    "\n",
    "if (typeof stop !== \"undefined\") {\n",
    "    stop();\n",
    "}\n",
    "var ticker = window.setInterval(function() {\n",
    "    console.log(\"tick5\");\n",
    "    IPython.notebook.kernel.execute(\"tick()\",\n",
    "        {iopub: {output: function(e) { console.log(e) }}}, {silent: false});\n",
    "}, 100);\n",
    "function stop() {\n",
    "    window.clearInterval(ticker);\n",
    "}\n",
    "</script>\n",
    "\"\"\"))"
   ]
  },
  {
   "cell_type": "code",
   "execution_count": null,
   "metadata": {},
   "outputs": [],
   "source": []
  }
 ],
 "metadata": {
  "kernelspec": {
   "display_name": "Python 3",
   "language": "python",
   "name": "python3"
  },
  "language_info": {
   "codemirror_mode": {
    "name": "ipython",
    "version": 3
   },
   "file_extension": ".py",
   "mimetype": "text/x-python",
   "name": "python",
   "nbconvert_exporter": "python",
   "pygments_lexer": "ipython3",
   "version": "3.6.8"
  }
 },
 "nbformat": 4,
 "nbformat_minor": 2
}
