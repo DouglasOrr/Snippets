{
 "cells": [
  {
   "cell_type": "code",
   "execution_count": 1,
   "metadata": {},
   "outputs": [],
   "source": [
    "%load_ext autoreload\n",
    "%autoreload 2\n",
    "import hover as H\n",
    "import Box2D as B"
   ]
  },
  {
   "cell_type": "code",
   "execution_count": 2,
   "metadata": {},
   "outputs": [
    {
     "data": {
      "text/plain": [
       "hover.Render.Body"
      ]
     },
     "execution_count": 2,
     "metadata": {},
     "output_type": "execute_result"
    }
   ],
   "source": [
    "H.Render.Body"
   ]
  },
  {
   "cell_type": "code",
   "execution_count": 19,
   "metadata": {},
   "outputs": [
    {
     "data": {
      "text/plain": [
       "b2PolygonShape(vertices: [(0.800000011920929, -2.0), (0.4000000059604645, -1.2000000476837158), (-0.4000000059604645, -1.2000000476837158), (-0.800000011920929, -2.0)])"
      ]
     },
     "execution_count": 19,
     "metadata": {},
     "output_type": "execute_result"
    }
   ],
   "source": [
    "g = H.Game()\n",
    "g.rocket.fixtures[0].shape"
   ]
  },
  {
   "cell_type": "code",
   "execution_count": 6,
   "metadata": {},
   "outputs": [
    {
     "data": {
      "text/plain": [
       "((1.0, -1.0), (0.0, 1.0), (-1.0, -1.0))"
      ]
     },
     "execution_count": 6,
     "metadata": {},
     "output_type": "execute_result"
    }
   ],
   "source": [
    "tuple(B.b2PolygonShape(vertices=[(-1, -1), (1, -1), (0, 1)]).vertices)"
   ]
  },
  {
   "cell_type": "code",
   "execution_count": 20,
   "metadata": {},
   "outputs": [
    {
     "data": {
      "text/plain": [
       "b2PolygonShape(vertices: [(-2.0, -3.0), (2.0, -3.0), (2.0, 3.0), (-2.0, 3.0)])"
      ]
     },
     "execution_count": 20,
     "metadata": {},
     "output_type": "execute_result"
    }
   ],
   "source": [
    "B.b2PolygonShape(box=(2,3))"
   ]
  },
  {
   "cell_type": "code",
   "execution_count": 22,
   "metadata": {},
   "outputs": [
    {
     "data": {
      "text/html": [
       "<svg viewBox=\"-30 -1 60 30\" width=\"800\" height=\"400.0\"><g transform=\"scale(1,-1) translate(0, -28)\"><g transform=\"translate(0.0,-10.0) rotate(0.0)\"><path fill=\"black\" d=\"M -50.0 -10.0 L 50.0 -10.0 L 50.0 10.0 L -50.0 10.0\"/></g><g transform=\"translate(-0.0012455359101295471,15.001729011535645) rotate(24.53061415881704)\"><path fill=\"blue\" d=\"M 0.800000011920929 -2.0 L 0.4000000059604645 -1.2000000476837158 L -0.4000000059604645 -1.2000000476837158 L -0.800000011920929 -2.0\"/><path fill=\"blue\" d=\"M 0.4000000059604645 -1.2000000476837158 L 0.4000000059604645 1.600000023841858 L 0.0 2.0 L -0.4000000059604645 1.600000023841858 L -0.4000000059604645 -1.2000000476837158\"/><path fill=\"orange\" d=\"M -0.8 -2 L -0.4 -2.8 L 0 -2\"/><path fill=\"orange\" d=\"M 0 -2 L 0.4 -2.8 L 0.8 -2\"/></g></g></svg>"
      ],
      "text/plain": [
       "<hover.Game at 0x7f3320338898>"
      ]
     },
     "execution_count": 22,
     "metadata": {},
     "output_type": "execute_result"
    }
   ],
   "source": [
    "game = H.Game()\n",
    "game.step(True, True)\n",
    "game"
   ]
  }
 ],
 "metadata": {
  "kernelspec": {
   "display_name": "Python 3",
   "language": "python",
   "name": "python3"
  },
  "language_info": {
   "codemirror_mode": {
    "name": "ipython",
    "version": 3
   },
   "file_extension": ".py",
   "mimetype": "text/x-python",
   "name": "python",
   "nbconvert_exporter": "python",
   "pygments_lexer": "ipython3",
   "version": "3.7.1"
  }
 },
 "nbformat": 4,
 "nbformat_minor": 2
}
