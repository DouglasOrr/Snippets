{
 "cells": [
  {
   "cell_type": "code",
   "execution_count": 2,
   "metadata": {},
   "outputs": [
    {
     "name": "stdout",
     "output_type": "stream",
     "text": [
      "ninja: Entering directory `..'\n",
      "ninja: no work to do.\n"
     ]
    }
   ],
   "source": [
    "!ninja -C .. -f tools/build.ninja"
   ]
  },
  {
   "cell_type": "code",
   "execution_count": 3,
   "metadata": {},
   "outputs": [
    {
     "name": "stdout",
     "output_type": "stream",
     "text": [
      "The autoreload extension is already loaded. To reload it, use:\n",
      "  %reload_ext autoreload\n"
     ]
    },
    {
     "data": {
      "text/html": [
       "<svg viewBox=\"-30 -1 60 30\" width=\"800\" height=\"400\"><g transform=\"scale(1,-1) translate(0,-28)\"><g transform=\"translate(0,-10) rotate(0)\"><path stroke-width=\"0.075\" stroke=\"black\" fill=\"black\" d=\"M -50 -10 L 50 -10 L 50 10 L -50 10\"/></g><g transform=\"translate(-16.8719,2.01952) rotate(-0.0137058)\"><path stroke-width=\"0.075\" stroke=\"blue\" fill=\"blue\" d=\"M 0.4 -1.2 L 0.4 1.6 L 0 2 L -0.4 1.6 L -0.4 -1.2\"/><path stroke-width=\"0.075\" stroke=\"blue\" fill=\"blue\" d=\"M 0.8 -2 L 0.4 -1.2 L -0.4 -1.2 L -0.8 -2\"/></g></g></svg>"
      ],
      "text/plain": [
       "<hover_game.Runner at 0x7ffbb72a5340>"
      ]
     },
     "metadata": {},
     "output_type": "display_data"
    },
    {
     "name": "stdout",
     "output_type": "stream",
     "text": [
      "Outcome.Success\n"
     ]
    }
   ],
   "source": [
    "%load_ext autoreload\n",
    "%autoreload 2\n",
    "import hover as H\n",
    "import numpy as np\n",
    "import time\n",
    "import IPython.display\n",
    "\n",
    "def play_and_display(runner, agent):\n",
    "    output = IPython.display.display(runner, display_id=True)\n",
    "    while True:\n",
    "        time.sleep(0.05)\n",
    "        state = runner.state()\n",
    "        if state.outcome != H.State.Outcome.Continue:\n",
    "            print(state.outcome)\n",
    "            break\n",
    "        runner.step(agent(state))\n",
    "        output.update(runner)\n",
    "\n",
    "play_and_display(H.Runner(None, [1]), H.example.pd_landing_agent)"
   ]
  }
 ],
 "metadata": {
  "kernelspec": {
   "display_name": "Python 3",
   "language": "python",
   "name": "python3"
  },
  "language_info": {
   "codemirror_mode": {
    "name": "ipython",
    "version": 3
   },
   "file_extension": ".py",
   "mimetype": "text/x-python",
   "name": "python",
   "nbconvert_exporter": "python",
   "pygments_lexer": "ipython3",
   "version": "3.6.8"
  }
 },
 "nbformat": 4,
 "nbformat_minor": 4
}
