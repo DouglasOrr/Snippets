{
 "cells": [
  {
   "cell_type": "code",
   "execution_count": 1,
   "metadata": {},
   "outputs": [],
   "source": [
    "%load_ext autoreload\n",
    "%autoreload 2\n",
    "import torch as T\n",
    "import numpy as np\n",
    "import hover as H\n",
    "T.multiprocessing.set_start_method('forkserver')"
   ]
  },
  {
   "cell_type": "code",
   "execution_count": 23,
   "metadata": {},
   "outputs": [],
   "source": [
    "base = 'results/q'\n",
    "agent = H.qlearning.Agent()\n",
    "H.core.Report.about(base, name='q', kind='qlearning')\n",
    "with H.core.Report.training(base) as log:\n",
    "    for _ in range(1000):\n",
    "        agent.train(log)\n",
    "H.core.Report.agent(base, agent)\n",
    "# H.core.Report.test(base, agent, 100)"
   ]
  },
  {
   "cell_type": "code",
   "execution_count": 21,
   "metadata": {},
   "outputs": [
    {
     "data": {
      "text/html": [
       "<svg viewBox=\"-30 -1 60 30\" width=\"800\" height=\"400.0\"><g transform=\"scale(1,-1) translate(0, -28)\"><g transform=\"translate(0.0,-10.0) rotate(0.0)\"><path fill=\"black\" d=\"M -50.0 -10.0 L 50.0 -10.0 L 50.0 10.0 L -50.0 10.0\"/></g><g transform=\"translate(-2.4385972023010254,14.683478355407715) rotate(-11.443901699633617)\"><path fill=\"blue\" d=\"M 0.800000011920929 -2.0 L 0.4000000059604645 -1.2000000476837158 L -0.4000000059604645 -1.2000000476837158 L -0.800000011920929 -2.0\"/><path fill=\"blue\" d=\"M 0.4000000059604645 -1.2000000476837158 L 0.4000000059604645 1.600000023841858 L 0.0 2.0 L -0.4000000059604645 1.600000023841858 L -0.4000000059604645 -1.2000000476837158\"/></g></g></svg>"
      ],
      "text/plain": [
       "<hover.core.Game at 0x7f145fa6ea20>"
      ]
     },
     "metadata": {},
     "output_type": "display_data"
    },
    {
     "data": {
      "text/plain": [
       "Outcome(kind='timeout', success=True, duration=20.000000000000327)"
      ]
     },
     "execution_count": 21,
     "metadata": {},
     "output_type": "execute_result"
    }
   ],
   "source": [
    "H.core.Game.play_and_display(T.load('results/q/agent.pkl'))"
   ]
  },
  {
   "cell_type": "code",
   "execution_count": 19,
   "metadata": {},
   "outputs": [],
   "source": [
    "H.core.Report.test(base, T.load('results/q/agent.pkl'), 1000)"
   ]
  }
 ],
 "metadata": {
  "kernelspec": {
   "display_name": "Python 3",
   "language": "python",
   "name": "python3"
  },
  "language_info": {
   "codemirror_mode": {
    "name": "ipython",
    "version": 3
   },
   "file_extension": ".py",
   "mimetype": "text/x-python",
   "name": "python",
   "nbconvert_exporter": "python",
   "pygments_lexer": "ipython3",
   "version": "3.7.1"
  }
 },
 "nbformat": 4,
 "nbformat_minor": 2
}
