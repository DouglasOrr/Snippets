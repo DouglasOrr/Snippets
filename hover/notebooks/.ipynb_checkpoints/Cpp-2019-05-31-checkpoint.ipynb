{
 "cells": [
  {
   "cell_type": "markdown",
   "metadata": {},
   "source": [
    " - Box2D [manual](https://box2d.org/manual.pdf) & [docs](https://jesse.tg/Box2D-Docs/annotated.html)\n",
    " - PyBind11 [docs](https://pybind11.readthedocs.io/en/master/index.html)"
   ]
  },
  {
   "cell_type": "code",
   "execution_count": null,
   "metadata": {},
   "outputs": [],
   "source": [
    "!clang++-7 -g -O0 -Wall -Wextra -Werror -std=c++17 -fPIC -shared \\\n",
    "    -isystem /opt/pybind11/include/ -isystem /opt/box2d/ -isystem /usr/include/python3.6/ \\\n",
    "    ../hover_game.cpp \\\n",
    "    -L /opt/box2d/lib -lBox2D -o /app/hover_game.so"
   ]
  },
  {
   "cell_type": "code",
   "execution_count": 1,
   "metadata": {},
   "outputs": [
    {
     "data": {
      "text/plain": [
       "State(outcome=Continue, game_seed=123, cell_index=2, cell_features=[00000000,00000000,00000000,00000000,00000000], ship_state=1,2,3,4,5,6)"
      ]
     },
     "execution_count": 1,
     "metadata": {},
     "output_type": "execute_result"
    }
   ],
   "source": [
    "import hover_game as H\n",
    "import numpy as np\n",
    "import time\n",
    "import IPython.display\n",
    "state = H.State(H.State.Outcome.Continue, 123, 2, np.zeros((5, 8), dtype=np.bool), np.array([1, 2, 3, 4, 5, 6], dtype=np.float32))\n",
    "state"
   ]
  },
  {
   "cell_type": "code",
   "execution_count": 2,
   "metadata": {},
   "outputs": [
    {
     "name": "stdout",
     "output_type": "stream",
     "text": [
      "None\n",
      "None\n",
      "<svg viewBox=\"-30 -1 60 30\" width=\"800\" height=\"400\"><g transform=\"scale(1,-1) translate(0,-28)\"><g transform=\"translate(0.109942,15.0851) rotate(-19.7568)\"><path fill=\"blue\" d=\"M 0.4 -1.2 L 0.4 1.6 L 0 2 L -0.4 1.6 L -0.4 -1.2\"/><path fill=\"blue\" d=\"M 0.8 -2 L 0.4 -1.2 L -0.4 -1.2 L -0.8 -2\"/><path fill=\"orange\" d=\"M 0.8 -2 L 0 -2 L 0.4 -2.8\"/></g><g transform=\"translate(0,-10) rotate(0)\"><path fill=\"black\" d=\"M -50 -10 L 50 -10 L 50 10 L -50 10\"/></g></g></svg>\n"
     ]
    },
    {
     "data": {
      "text/html": [
       "<svg viewBox=\"-30 -1 60 30\" width=\"800\" height=\"400\"><g transform=\"scale(1,-1) translate(0,-28)\"><g transform=\"translate(0.109942,15.0851) rotate(-19.7568)\"><path fill=\"blue\" d=\"M 0.4 -1.2 L 0.4 1.6 L 0 2 L -0.4 1.6 L -0.4 -1.2\"/><path fill=\"blue\" d=\"M 0.8 -2 L 0.4 -1.2 L -0.4 -1.2 L -0.8 -2\"/><path fill=\"orange\" d=\"M 0.8 -2 L 0 -2 L 0.4 -2.8\"/></g><g transform=\"translate(0,-10) rotate(0)\"><path fill=\"black\" d=\"M -50 -10 L 50 -10 L 50 10 L -50 10\"/></g></g></svg>"
      ],
      "text/plain": [
       "<hover_game.Runner at 0x7fea6c463308>"
      ]
     },
     "execution_count": 2,
     "metadata": {},
     "output_type": "execute_result"
    }
   ],
   "source": [
    "runner = H.Runner(H.Runner.Settings(None, [1]))\n",
    "print(runner.step(np.array([False, True], np.bool)))\n",
    "print(runner.step(np.array([False, True], np.bool)))\n",
    "print(runner.to_svg())\n",
    "runner"
   ]
  },
  {
   "cell_type": "code",
   "execution_count": 15,
   "metadata": {},
   "outputs": [
    {
     "data": {
      "text/html": [
       "<svg viewBox=\"-30 -1 60 30\" width=\"800\" height=\"400\"><g transform=\"scale(1,-1) translate(0,-28)\"><g transform=\"translate(-1.12528,16.0731) rotate(96.6421)\"><path fill=\"blue\" d=\"M 0.4 -1.2 L 0.4 1.6 L 0 2 L -0.4 1.6 L -0.4 -1.2\"/><path fill=\"blue\" d=\"M 0.8 -2 L 0.4 -1.2 L -0.4 -1.2 L -0.8 -2\"/><path fill=\"orange\" d=\"M 0.8 -2 L 0 -2 L 0.4 -2.8\"/></g><g transform=\"translate(0,-10) rotate(0)\"><path fill=\"black\" d=\"M -50 -10 L 50 -10 L 50 10 L -50 10\"/></g></g></svg>"
      ],
      "text/plain": [
       "<hover_game.Runner at 0x7fea6c463260>"
      ]
     },
     "metadata": {},
     "output_type": "display_data"
    }
   ],
   "source": [
    "def constant_agent(left, right):\n",
    "    action = np.array([left, right], dtype=np.bool)\n",
    "    return lambda state: action\n",
    "\n",
    "def play_and_display(runner, agent):\n",
    "    output = IPython.display.display(runner, display_id=True)\n",
    "    while True:\n",
    "        time.sleep(0.1)\n",
    "        state = runner.state()\n",
    "        if state.outcome != H.State.Outcome.Continue:\n",
    "            break\n",
    "        runner.step(agent(state))\n",
    "        output.update(runner)\n",
    "\n",
    "play_and_display(H.Runner(H.Runner.Settings(None, [1])), constant_agent(False, True))"
   ]
  },
  {
   "cell_type": "code",
   "execution_count": null,
   "metadata": {},
   "outputs": [],
   "source": []
  }
 ],
 "metadata": {
  "kernelspec": {
   "display_name": "Python 3",
   "language": "python",
   "name": "python3"
  },
  "language_info": {
   "codemirror_mode": {
    "name": "ipython",
    "version": 3
   },
   "file_extension": ".py",
   "mimetype": "text/x-python",
   "name": "python",
   "nbconvert_exporter": "python",
   "pygments_lexer": "ipython3",
   "version": "3.6.7"
  }
 },
 "nbformat": 4,
 "nbformat_minor": 2
}
