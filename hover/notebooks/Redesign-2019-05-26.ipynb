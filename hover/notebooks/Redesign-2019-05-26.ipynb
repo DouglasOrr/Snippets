{
 "cells": [
  {
   "cell_type": "code",
   "execution_count": 1,
   "metadata": {},
   "outputs": [],
   "source": [
    "%load_ext autoreload\n",
    "%autoreload 2\n",
    "%matplotlib inline\n",
    "import numpy as np\n",
    "import seaborn as sns\n",
    "import matplotlib.pyplot as plt\n",
    "import hover as H\n",
    "import torch as T\n",
    "import os\n",
    "import functools as ft\n",
    "import itertools as it\n",
    "sns.set_context('talk')"
   ]
  },
  {
   "cell_type": "code",
   "execution_count": 2,
   "metadata": {},
   "outputs": [],
   "source": [
    "for power in [0, .2, .33, .5]:\n",
    "    base = 'results/c{}'.format(power)\n",
    "    agent = H.IntegratorAgent(H.constant_agent(power, power))\n",
    "    H.core.Report.about(base, name='c{}'.format(power), kind='constant', power=power)\n",
    "    H.core.Report.agent(base, agent)\n",
    "    H.core.Report.test(base, agent, 1000, nproc=4)"
   ]
  },
  {
   "cell_type": "code",
   "execution_count": 3,
   "metadata": {},
   "outputs": [
    {
     "data": {
      "text/html": [
       "<div>\n",
       "<style scoped>\n",
       "    .dataframe tbody tr th:only-of-type {\n",
       "        vertical-align: middle;\n",
       "    }\n",
       "\n",
       "    .dataframe tbody tr th {\n",
       "        vertical-align: top;\n",
       "    }\n",
       "\n",
       "    .dataframe thead th {\n",
       "        text-align: right;\n",
       "    }\n",
       "</style>\n",
       "<table border=\"1\" class=\"dataframe\">\n",
       "  <thead>\n",
       "    <tr style=\"text-align: right;\">\n",
       "      <th></th>\n",
       "      <th></th>\n",
       "      <th></th>\n",
       "      <th>duration</th>\n",
       "      <th>success</th>\n",
       "    </tr>\n",
       "    <tr>\n",
       "      <th>kind</th>\n",
       "      <th>name</th>\n",
       "      <th>power</th>\n",
       "      <th></th>\n",
       "      <th></th>\n",
       "    </tr>\n",
       "  </thead>\n",
       "  <tbody>\n",
       "    <tr>\n",
       "      <th rowspan=\"4\" valign=\"top\">constant</th>\n",
       "      <th>c0</th>\n",
       "      <th>0.00</th>\n",
       "      <td>1.48000</td>\n",
       "      <td>0</td>\n",
       "    </tr>\n",
       "    <tr>\n",
       "      <th>c0.2</th>\n",
       "      <th>0.20</th>\n",
       "      <td>2.27701</td>\n",
       "      <td>0</td>\n",
       "    </tr>\n",
       "    <tr>\n",
       "      <th>c0.33</th>\n",
       "      <th>0.33</th>\n",
       "      <td>5.13485</td>\n",
       "      <td>0</td>\n",
       "    </tr>\n",
       "    <tr>\n",
       "      <th>c0.5</th>\n",
       "      <th>0.50</th>\n",
       "      <td>2.14470</td>\n",
       "      <td>0</td>\n",
       "    </tr>\n",
       "  </tbody>\n",
       "</table>\n",
       "</div>"
      ],
      "text/plain": [
       "<hover.core.Report at 0x7f40d0034550>"
      ]
     },
     "execution_count": 3,
     "metadata": {},
     "output_type": "execute_result"
    },
    {
     "data": {
      "image/png": "[encoded data removed]",
      "text/plain": [
       "<Figure size 720x432 with 1 Axes>"
      ]
     },
     "metadata": {
      "needs_background": "light"
     },
     "output_type": "display_data"
    }
   ],
   "source": [
    "results = H.core.Report.load('results')\n",
    "results.plot_duration()\n",
    "results"
   ]
  },
  {
   "cell_type": "code",
   "execution_count": 6,
   "metadata": {},
   "outputs": [
    {
     "data": {
      "text/html": [
       "<svg viewBox=\"-30 -1 60 30\" width=\"800\" height=\"400.0\"><g transform=\"scale(1,-1) translate(0, -28)\"><g transform=\"translate(0.0,-10.0) rotate(0.0)\"><path fill=\"black\" d=\"M -50.0 -10.0 L 50.0 -10.0 L 50.0 10.0 L -50.0 10.0\"/></g><g transform=\"translate(18.805131912231445,10.361510276794434) rotate(-21.924480348917804)\"><path fill=\"blue\" d=\"M 0.800000011920929 -2.0 L 0.4000000059604645 -1.2000000476837158 L -0.4000000059604645 -1.2000000476837158 L -0.800000011920929 -2.0\"/><path fill=\"blue\" d=\"M 0.4000000059604645 -1.2000000476837158 L 0.4000000059604645 1.600000023841858 L 0.0 2.0 L -0.4000000059604645 1.600000023841858 L -0.4000000059604645 -1.2000000476837158\"/></g></g></svg>"
      ],
      "text/plain": [
       "<hover.core.Game at 0x7f40ac2476a0>"
      ]
     },
     "metadata": {},
     "output_type": "display_data"
    },
    {
     "data": {
      "text/plain": [
       "Outcome(kind='outofbounds', success=False, duration=3.2999999999999736)"
      ]
     },
     "execution_count": 6,
     "metadata": {},
     "output_type": "execute_result"
    }
   ],
   "source": [
    "H.Game.play_and_display(T.load('results/c0.33/agent.pkl'))"
   ]
  }
 ],
 "metadata": {
  "kernelspec": {
   "display_name": "Python 3",
   "language": "python",
   "name": "python3"
  },
  "language_info": {
   "codemirror_mode": {
    "name": "ipython",
    "version": 3
   },
   "file_extension": ".py",
   "mimetype": "text/x-python",
   "name": "python",
   "nbconvert_exporter": "python",
   "pygments_lexer": "ipython3",
   "version": "3.7.1"
  }
 },
 "nbformat": 4,
 "nbformat_minor": 2
}
