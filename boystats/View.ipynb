{
 "cells": [
  {
   "cell_type": "code",
   "execution_count": null,
   "metadata": {},
   "outputs": [],
   "source": [
    "%load_ext autoreload\n",
    "%autoreload 2\n",
    "import boystats as B\n",
    "import pandas as pd\n",
    "import matplotlib\n",
    "import matplotlib.pyplot as plt\n",
    "import seaborn as sns\n",
    "import collections\n",
    "import numpy as np\n",
    "sns.set_context('talk')"
   ]
  },
  {
   "cell_type": "code",
   "execution_count": null,
   "metadata": {},
   "outputs": [],
   "source": [
    "B.convert('data', 2020)"
   ]
  },
  {
   "cell_type": "code",
   "execution_count": null,
   "metadata": {},
   "outputs": [],
   "source": [
    "df = pd.read_csv('data/volume.csv')\n",
    "df['date'] = pd.to_datetime(df.date)\n",
    "plt.figure(figsize=(14, 8))\n",
    "df.plot(x='date', y='volume', style='k', alpha=.2, legend=False, ax=plt.gca())\n",
    "plt.plot(df.date, df.volume.ewm(com=7).mean(), color='k')\n",
    "plt.ylabel('Volume /ml')\n",
    "plt.title('Feed volume');"
   ]
  },
  {
   "cell_type": "code",
   "execution_count": null,
   "metadata": {},
   "outputs": [],
   "source": [
    "df = pd.read_csv('data/sick.csv', dtype=dict(time=str))\n",
    "df['date'] = pd.to_datetime(df.date)\n",
    "df['count'] = 1\n",
    "f = df.groupby('date')['count'].sum()\n",
    "f = f.reindex(pd.date_range(f.index.min(), f.index.max()), fill_value=0).reset_index().rename(columns=dict(index='date'))\n",
    "\n",
    "plt.figure(figsize=(14, 8))\n",
    "plt.plot(f['date'], f['count'].ewm(com=14).mean(), color='k')\n",
    "f.plot(x='date', y='count', style='k', alpha=.2, legend=False, ax=plt.gca())\n",
    "plt.ylabel('Daily vomit frequency')\n",
    "plt.title('Vomits over time')\n",
    "plt.ylim(f['count'].min(), f['count'].max())\n",
    "\n",
    "events = pd.read_csv('data/events.csv', converters=dict(date=pd.to_datetime))\n",
    "plt.vlines([d.toordinal() for d in events.date], f['count'].min(), f['count'].max(), linestyles='dashed')\n",
    "for _, row in events.iterrows():\n",
    "    plt.annotate(row.event, (row.date.toordinal(), f['count'].max()), va='top', textcoords='offset points', xytext=(5, -2), fontsize=18)"
   ]
  },
  {
   "cell_type": "code",
   "execution_count": null,
   "metadata": {},
   "outputs": [],
   "source": [
    "plt.figure(figsize=(14,8))\n",
    "hours = df.time[~df.time.isna()].apply(lambda x: int(x[:2]))\n",
    "counts = collections.Counter(hours)\n",
    "xs = np.arange(0, 24)\n",
    "plt.gca().bar(xs, [counts.get(x, 0) for x in xs])\n",
    "plt.gca().set_xticks(xs)\n",
    "plt.gca().set_xticklabels(['{:02d}'.format(x) for x in xs])\n",
    "plt.title('Vomits by hour-of-day')\n",
    "\n",
    "plt.figure(figsize=(14,8))\n",
    "days = df.date.apply(lambda x: x.day_name())\n",
    "counts = collections.Counter(days)\n",
    "xlabels = ['Monday', 'Tuesday', 'Wednesday', 'Thursday', 'Friday', 'Saturday', 'Sunday']\n",
    "xs = list(range(len(xlabels)))\n",
    "plt.gca().bar(xs, [counts.get(x, 0) for x in xlabels])\n",
    "plt.gca().set_xticks(xs)\n",
    "plt.gca().set_xticklabels(xlabels)\n",
    "plt.title('Vomits by day-of-week');"
   ]
  }
 ],
 "metadata": {
  "kernelspec": {
   "display_name": "Python 3",
   "language": "python",
   "name": "python3"
  },
  "language_info": {
   "codemirror_mode": {
    "name": "ipython",
    "version": 3
   },
   "file_extension": ".py",
   "mimetype": "text/x-python",
   "name": "python",
   "nbconvert_exporter": "python",
   "pygments_lexer": "ipython3",
   "version": "3.7.6"
  }
 },
 "nbformat": 4,
 "nbformat_minor": 4
}
